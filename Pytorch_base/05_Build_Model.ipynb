{
 "cells": [
  {
   "cell_type": "markdown",
   "id": "aging-davis",
   "metadata": {},
   "source": [
    "# Build the NN"
   ]
  },
  {
   "cell_type": "code",
   "execution_count": 1,
   "id": "native-symphony",
   "metadata": {},
   "outputs": [],
   "source": [
    "import os\n",
    "import torch\n",
    "from torch import nn\n",
    "from torch.utils.data import DataLoader\n",
    "from torchvision import datasets, transforms"
   ]
  },
  {
   "cell_type": "markdown",
   "id": "alien-attendance",
   "metadata": {},
   "source": [
    "## 1、使用cuda"
   ]
  },
  {
   "cell_type": "code",
   "execution_count": 2,
   "id": "thrown-fundamentals",
   "metadata": {},
   "outputs": [
    {
     "name": "stdout",
     "output_type": "stream",
     "text": [
      "Using cuda devices\n"
     ]
    }
   ],
   "source": [
    "device = 'cuda' if torch.cuda.is_available() else 'cpu'\n",
    "print('Using {} devices'.format(device))"
   ]
  },
  {
   "cell_type": "markdown",
   "id": "composite-revision",
   "metadata": {},
   "source": [
    "## 2、定义类\n",
    "\n",
    "我们通过子类化定义神经网络nn.Module，并在中初始化神经网络层__init__。每个nn.Module子类都对forward方法中的输入数据执行操作。\n",
    "\n",
    "#### 常用的网络层：\n",
    "\n",
    "- 全连接层\n",
    "\n",
    "  ```\n",
    "  Linear(in_features, out_features, bias=True)\n",
    "  ```\n",
    "\n",
    "  - in_features: 输入的特征数\n",
    "  - out_features: 输出的特征数\n",
    "\n",
    "- 随机丢弃层\n",
    "\n",
    "  ```\n",
    "  Dropout(p=0.5, inplace=False)\n",
    "  ```\n",
    "\n",
    "  - p: float, 特征丢弃的比例\n",
    "\n",
    "- **展平层** - `Flatten()`\n",
    "\n",
    "- 2D卷积层\n",
    "\n",
    "  ```\n",
    "  Conv2d(in_channels, out_channels, kernel_size, stride=1, padding=0, ...)\n",
    "  ```\n",
    "\n",
    "  - in_channels: 输入的特征数\n",
    "  - out_channels: 输出特征数 (即卷积中输出滤波器的数量）\n",
    "  - kernel_size: 卷积窗口的长度\n",
    "  - stride: 指定卷积的步长\n",
    "  - padding: 填充数量\n",
    "  \n",
    "  \n",
    "  \n",
    "经过卷积后的图像尺寸计算公式：N = (W − F + 2P )/S+1\n",
    "\n",
    "w为原始图像大小、F为卷积核尺寸、P为padding大小、S是步长\n",
    "\n",
    "28 - 3 + 2 = 27; 27/3 = 9 ; 9+1 =10\n",
    "```\n",
    "input_image = torch.rand(1, 1, 28, 28)\n",
    "print(input_image.size())\n",
    "conv1 = nn.Conv2d(1, 16, 3, stride=3, padding=1)\n",
    "conv1_img = conv1(input_image)\n",
    "print(conv1_img.size())\n",
    "```\n",
    "反卷积：output = (input-1)stride+outputpadding -2padding+kernelsize\n",
    "\n",
    "\n",
    "- 最大池化层\n",
    "\n",
    "  ```\n",
    "  MaxPooling2D(kernel_size, stride=None, padding=0, ...)\n",
    "  ```\n",
    "\n",
    "  - kernel_size: 池化窗口的长度\n",
    "  - stride: 指定池化的步长\n",
    "  - padding: 填充数量\n",
    "\n",
    "- 平均池化层\n",
    "\n",
    "  ```\n",
    "  AvgPool2d((kernel_size, stride=None, padding=0, ...)\n",
    "  ```\n",
    "\n",
    "  - kernel_size: 池化窗口的长度\n",
    "  - stride: 指定池化的步长\n",
    "  - padding: 填充数量\n",
    "\n",
    "- 自适应池化\n",
    "\n",
    "  ```\n",
    "  AdaptiveMaxPool2d(output_size, ...), AdaptiveAvgPool2d(output_size, ...)\n",
    "  ```\n",
    "\n",
    "  - output_size: 特征输出大小(H, W)\n",
    "  - 对于任何输入大小，输出大小均为HxW。输出特征的数量等于输入特征的数量\n",
    "\n",
    "- **非线性激活** - `ReLU(), Sigmoid()`"
   ]
  },
  {
   "cell_type": "code",
   "execution_count": 3,
   "id": "intended-visit",
   "metadata": {},
   "outputs": [],
   "source": [
    "class NeuralNetwork(nn.Module):\n",
    "    def __init__(self):\n",
    "        super(NeuralNetwork, self).__init__()\n",
    "        self.flatten = nn.Flatten()\n",
    "        self.linear_relu_stack = nn.Sequential(\n",
    "            nn.Linear(28*28, 512),\n",
    "            nn.ReLU(),\n",
    "            nn.Linear(512, 512),\n",
    "            nn.ReLU(),\n",
    "            nn.Linear(512, 10),\n",
    "            nn.ReLU()\n",
    "        )\n",
    "        \n",
    "    def forward(self, x):\n",
    "        x = self.flatten(x)\n",
    "        logits = self.linear_relu_stack(x)\n",
    "        return logits"
   ]
  },
  {
   "cell_type": "code",
   "execution_count": 4,
   "id": "excess-driving",
   "metadata": {},
   "outputs": [
    {
     "name": "stdout",
     "output_type": "stream",
     "text": [
      "NeuralNetwork(\n",
      "  (flatten): Flatten(start_dim=1, end_dim=-1)\n",
      "  (linear_relu_stack): Sequential(\n",
      "    (0): Linear(in_features=784, out_features=512, bias=True)\n",
      "    (1): ReLU()\n",
      "    (2): Linear(in_features=512, out_features=512, bias=True)\n",
      "    (3): ReLU()\n",
      "    (4): Linear(in_features=512, out_features=10, bias=True)\n",
      "    (5): ReLU()\n",
      "  )\n",
      ")\n"
     ]
    }
   ],
   "source": [
    "model = NeuralNetwork().to(device)\n",
    "print(model)"
   ]
  },
  {
   "cell_type": "code",
   "execution_count": 5,
   "id": "shaped-excerpt",
   "metadata": {},
   "outputs": [],
   "source": [
    "# 第三方库 torchsummary 打印模型详情\n",
    "# from torchsummary import summary\n",
    "\n",
    "# summary(model, (1, 28, 28),)"
   ]
  },
  {
   "cell_type": "code",
   "execution_count": 6,
   "id": "closing-springer",
   "metadata": {},
   "outputs": [
    {
     "name": "stdout",
     "output_type": "stream",
     "text": [
      "Predicted class: tensor([1], device='cuda:0')\n"
     ]
    }
   ],
   "source": [
    "X = torch.rand(1, 28, 28, device=device)\n",
    "logits = model(X)\n",
    "pred_probab = nn.Softmax(dim=1)(logits)\n",
    "y_pred = pred_probab.argmax(1)\n",
    "print(f\"Predicted class: {y_pred}\")"
   ]
  },
  {
   "cell_type": "markdown",
   "id": "exceptional-tutorial",
   "metadata": {},
   "source": [
    "## 3、Model Layers\n",
    "   细分FashionMNIST模型中的各个层。\n",
    "\n",
    "   为了说明这一点，我们将抽取3个大小为28x28的图像的小批量样本，并观察当它通过网络传递时发生了什么。"
   ]
  },
  {
   "cell_type": "code",
   "execution_count": 7,
   "id": "adjacent-tulsa",
   "metadata": {},
   "outputs": [
    {
     "name": "stdout",
     "output_type": "stream",
     "text": [
      "torch.Size([3, 28, 28])\n"
     ]
    }
   ],
   "source": [
    "input_image = torch.rand(3, 28, 28)\n",
    "print(input_image.size())"
   ]
  },
  {
   "cell_type": "markdown",
   "id": "emerging-hello",
   "metadata": {},
   "source": [
    "#### nn.Flatten：\n",
    "\n",
    "我们初始化nn.Flatten 层，以将每个2D 28x28图像转换为784个像素值的连续数组（维持了最小批处理尺寸（在dim = 0时））。"
   ]
  },
  {
   "cell_type": "code",
   "execution_count": 8,
   "id": "rotary-worcester",
   "metadata": {},
   "outputs": [
    {
     "name": "stdout",
     "output_type": "stream",
     "text": [
      "torch.Size([3, 784])\n"
     ]
    }
   ],
   "source": [
    "flatten = nn.Flatten()\n",
    "flat_image = flatten(input_image)\n",
    "print(flat_image.size())"
   ]
  },
  {
   "cell_type": "markdown",
   "id": "experienced-runner",
   "metadata": {},
   "source": [
    "#### nn.Linear\n",
    "The linear layer is a module that applies a linear transformation on the input using it’s stored weights and biases.\n",
    "使用它的存储的权重和偏置输入施加线性变换的模块"
   ]
  },
  {
   "cell_type": "code",
   "execution_count": 9,
   "id": "reported-correction",
   "metadata": {},
   "outputs": [
    {
     "name": "stdout",
     "output_type": "stream",
     "text": [
      "torch.Size([3, 20])\n"
     ]
    }
   ],
   "source": [
    "layer1 = nn.Linear(in_features=28*28, out_features=20)\n",
    "hidden1 = layer1(flat_image)\n",
    "print(hidden1.size())"
   ]
  },
  {
   "cell_type": "markdown",
   "id": "entertaining-output",
   "metadata": {},
   "source": [
    "#### nn.ReLU\n",
    "非线性激活会在模型的输入和输出之间创建复杂的映射。They are applied after linear transformations to introduce nonlinearity, helping neural networks learn a wide variety of phenomena."
   ]
  },
  {
   "cell_type": "code",
   "execution_count": 10,
   "id": "through-sterling",
   "metadata": {},
   "outputs": [
    {
     "name": "stdout",
     "output_type": "stream",
     "text": [
      "Before ReLU: tensor([[ 0.5681, -0.0246, -0.3696,  0.0363,  0.0845, -0.0011, -0.6233, -0.3214,\n",
      "          0.0831, -0.1628, -0.5470, -0.2869,  0.1306,  0.1936, -0.2363,  0.7477,\n",
      "         -0.0072,  0.7228, -0.2375,  0.1610],\n",
      "        [ 0.5125,  0.2423, -0.3006,  0.2512,  0.1474,  0.5515, -0.8556, -0.3920,\n",
      "          0.3432,  0.0814, -0.5375, -0.6362,  0.1519,  0.2941,  0.0228,  0.6906,\n",
      "         -0.3687,  0.7015, -0.3500,  0.1392],\n",
      "        [ 0.5871,  0.3924, -0.0084, -0.1620, -0.0745, -0.0149, -0.7710, -0.2393,\n",
      "         -0.2255, -0.0171, -0.5344, -0.3291,  0.1266, -0.0139, -0.7775,  0.8234,\n",
      "         -0.2403,  0.4986, -0.1676,  0.5126]], grad_fn=<AddmmBackward>)\n",
      "\n",
      "\n",
      "After ReLU: tensor([[0.5681, 0.0000, 0.0000, 0.0363, 0.0845, 0.0000, 0.0000, 0.0000, 0.0831,\n",
      "         0.0000, 0.0000, 0.0000, 0.1306, 0.1936, 0.0000, 0.7477, 0.0000, 0.7228,\n",
      "         0.0000, 0.1610],\n",
      "        [0.5125, 0.2423, 0.0000, 0.2512, 0.1474, 0.5515, 0.0000, 0.0000, 0.3432,\n",
      "         0.0814, 0.0000, 0.0000, 0.1519, 0.2941, 0.0228, 0.6906, 0.0000, 0.7015,\n",
      "         0.0000, 0.1392],\n",
      "        [0.5871, 0.3924, 0.0000, 0.0000, 0.0000, 0.0000, 0.0000, 0.0000, 0.0000,\n",
      "         0.0000, 0.0000, 0.0000, 0.1266, 0.0000, 0.0000, 0.8234, 0.0000, 0.4986,\n",
      "         0.0000, 0.5126]], grad_fn=<ReluBackward0>)\n"
     ]
    }
   ],
   "source": [
    "print(f\"Before ReLU: {hidden1}\\n\\n\")\n",
    "hidden1 = nn.ReLU()(hidden1)\n",
    "print(f\"After ReLU: {hidden1}\")"
   ]
  },
  {
   "cell_type": "markdown",
   "id": "warming-position",
   "metadata": {},
   "source": [
    "#### nn.Sequential\n",
    "nn.Sequential是模块的有序容器。\n",
    "\n",
    "数据按照定义的顺序通过所有模块。您可以使用顺序容器将类似`seq_modules`的快速网络组合在一起"
   ]
  },
  {
   "cell_type": "code",
   "execution_count": 11,
   "id": "mighty-truck",
   "metadata": {},
   "outputs": [],
   "source": [
    "seq_modules = nn.Sequential(\n",
    "    flatten,\n",
    "    layer1,\n",
    "    nn.ReLU(),\n",
    "    nn.Linear(20, 10)\n",
    ")\n",
    "input_image = torch.rand(3,28,28)\n",
    "logits = seq_modules(input_image)"
   ]
  },
  {
   "cell_type": "markdown",
   "id": "animal-sustainability",
   "metadata": {},
   "source": [
    "#### nn.Softmax\n",
    "神经网络的最后一个线性层。\n",
    "\n",
    "将对数缩放为[0，1]值，该值表示每个类别的模型的预测概率。\n",
    "\n",
    "dim参数表示必须将值加起来为1的维度。"
   ]
  },
  {
   "cell_type": "code",
   "execution_count": 12,
   "id": "outside-breakdown",
   "metadata": {},
   "outputs": [],
   "source": [
    "softmax = nn.Softmax(dim=1)\n",
    "pred_probab = softmax(logits)"
   ]
  },
  {
   "cell_type": "markdown",
   "id": "indie-concentrate",
   "metadata": {},
   "source": [
    "## 4、模型参数\n",
    "神经网络内部的许多层均已参数化，即具有相关的权重和偏差，这些权重和偏差在训练期间进行了优化。\n",
    "\n",
    "子类化nn.Module自动跟踪模型对象内部定义的所有字段，并使用模型parameters()或named_parameters()方法访问所有参数。"
   ]
  },
  {
   "cell_type": "code",
   "execution_count": 15,
   "id": "adopted-richmond",
   "metadata": {},
   "outputs": [
    {
     "name": "stdout",
     "output_type": "stream",
     "text": [
      "Model structure:  NeuralNetwork(\n",
      "  (flatten): Flatten(start_dim=1, end_dim=-1)\n",
      "  (linear_relu_stack): Sequential(\n",
      "    (0): Linear(in_features=784, out_features=512, bias=True)\n",
      "    (1): ReLU()\n",
      "    (2): Linear(in_features=512, out_features=512, bias=True)\n",
      "    (3): ReLU()\n",
      "    (4): Linear(in_features=512, out_features=10, bias=True)\n",
      "    (5): ReLU()\n",
      "  )\n",
      ") \n",
      "\n",
      "\n",
      "Layer : linear_relu_stack.0.weight | Size: torch.Size([512, 784]) | Value : tensor([[-0.0287,  0.0167, -0.0114,  ...,  0.0278, -0.0040,  0.0289],\n",
      "        [-0.0075, -0.0061,  0.0009,  ..., -0.0065,  0.0088, -0.0240]],\n",
      "       device='cuda:0', grad_fn=<SliceBackward>) \n",
      "\n",
      "Layer : linear_relu_stack.0.bias | Size: torch.Size([512]) | Value : tensor([-0.0020, -0.0142], device='cuda:0', grad_fn=<SliceBackward>) \n",
      "\n",
      "Layer : linear_relu_stack.2.weight | Size: torch.Size([512, 512]) | Value : tensor([[-0.0310,  0.0048,  0.0398,  ..., -0.0411, -0.0377, -0.0240],\n",
      "        [ 0.0399,  0.0354, -0.0396,  ..., -0.0335, -0.0266,  0.0406]],\n",
      "       device='cuda:0', grad_fn=<SliceBackward>) \n",
      "\n",
      "Layer : linear_relu_stack.2.bias | Size: torch.Size([512]) | Value : tensor([-0.0341,  0.0293], device='cuda:0', grad_fn=<SliceBackward>) \n",
      "\n",
      "Layer : linear_relu_stack.4.weight | Size: torch.Size([10, 512]) | Value : tensor([[ 0.0404,  0.0151, -0.0175,  ..., -0.0002, -0.0239, -0.0295],\n",
      "        [-0.0238, -0.0329, -0.0224,  ..., -0.0435, -0.0326, -0.0033]],\n",
      "       device='cuda:0', grad_fn=<SliceBackward>) \n",
      "\n",
      "Layer : linear_relu_stack.4.bias | Size: torch.Size([10]) | Value : tensor([-0.0302,  0.0287], device='cuda:0', grad_fn=<SliceBackward>) \n",
      "\n"
     ]
    }
   ],
   "source": [
    "# 遍历每个参数，并打印其大小和值的预览\n",
    "print(\"Model structure: \", model, \"\\n\\n\")\n",
    "\n",
    "for name, param in model.named_parameters():\n",
    "    print(f\"Layer : {name} | Size: {param.size()} | Value : {param[:2]} \\n\")"
   ]
  }
 ],
 "metadata": {
  "kernelspec": {
   "display_name": "Python 3",
   "language": "python",
   "name": "python3"
  },
  "language_info": {
   "codemirror_mode": {
    "name": "ipython",
    "version": 3
   },
   "file_extension": ".py",
   "mimetype": "text/x-python",
   "name": "python",
   "nbconvert_exporter": "python",
   "pygments_lexer": "ipython3",
   "version": "3.7.10"
  }
 },
 "nbformat": 4,
 "nbformat_minor": 5
}
