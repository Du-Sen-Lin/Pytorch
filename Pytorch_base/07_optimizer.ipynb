{
 "cells": [
  {
   "cell_type": "markdown",
   "id": "located-calculator",
   "metadata": {},
   "source": [
    "# optimizing model parameters\n",
    "有了模型和数据。就可以通过优化数据上的参数来训练，验证和测试模型。训练模型是一个迭代过程。\n",
    "\n",
    "在每次迭代（称为epoch）中，模型都会对输出进行猜测，计算其猜测（损失）中的误差，收集误差相对于其参数的导数，使用梯度下降优化这些参数。"
   ]
  },
  {
   "cell_type": "code",
   "execution_count": 2,
   "id": "offensive-disco",
   "metadata": {},
   "outputs": [],
   "source": [
    "import torch\n",
    "from torch import nn\n",
    "from torch.utils.data import DataLoader\n",
    "from torchvision import datasets\n",
    "from torchvision.transforms import ToTensor, Lambda\n",
    "\n",
    "training_data = datasets.FashionMNIST(\n",
    "    root=\"./data/\",\n",
    "    train=True,\n",
    "    download=False,\n",
    "    transform=ToTensor()\n",
    ")\n",
    "\n",
    "test_data = datasets.FashionMNIST(\n",
    "    root=\"./data/\",\n",
    "    train=False,\n",
    "    download=False,\n",
    "    transform=ToTensor()\n",
    ")\n",
    "\n",
    "train_dataloader = DataLoader(training_data, batch_size=64)\n",
    "test_dataloader = DataLoader(test_data, batch_size=64)\n",
    "\n",
    "device = \"cuda\" if torch.cuda.is_available() else \"cpu\"\n",
    "\n",
    "class NeuralNetwork(nn.Module):\n",
    "    def __init__(self):\n",
    "        super(NeuralNetwork, self).__init__()\n",
    "        self.flatten = nn.Flatten()\n",
    "        self.linear_relu_stack = nn.Sequential(\n",
    "            nn.Linear(28*28, 512),\n",
    "            nn.ReLU(),\n",
    "            nn.Linear(512, 512),\n",
    "            nn.ReLU(),\n",
    "            nn.Linear(512, 10),\n",
    "            nn.ReLU()\n",
    "        )\n",
    "\n",
    "    def forward(self, x):\n",
    "        x = self.flatten(x)\n",
    "        logits = self.linear_relu_stack(x)\n",
    "        return logits\n",
    "\n",
    "model = NeuralNetwork().to(device)"
   ]
  },
  {
   "cell_type": "markdown",
   "id": "organized-tunnel",
   "metadata": {},
   "source": [
    "#### Hyperparameters\n",
    "超参数：超参数是可调整的参数，可让您控制模型优化过程。不同的超参数值可能会影响模型训练和收敛速度。\n",
    "\n",
    "定义以下用于训练的超参数：\n",
    "\n",
    "Number of Epochs - the number times to iterate over the dataset\n",
    "\n",
    "Batch Size - the number of data samples seen by the model in each epoch\n",
    "\n",
    "Learning Rate - how much to update models parameters at each batch/epoch. Smaller values yield slow learning speed, while large values may result in unpredictable behavior during training.（较小的值会导致学习速度变慢，而较大的值可能会导致训练期间出现无法预测的行为。）"
   ]
  },
  {
   "cell_type": "code",
   "execution_count": 3,
   "id": "governmental-dinner",
   "metadata": {},
   "outputs": [],
   "source": [
    "learning_rate = 1e-3\n",
    "batch_size = 64\n",
    "epochs = 5"
   ]
  },
  {
   "cell_type": "markdown",
   "id": "annoying-appliance",
   "metadata": {},
   "source": [
    "#### Optimization Loop\n",
    "设置超参数后，我们便可以使用优化循环来训练和优化模型。优化循环的每次迭代都称为epoch。\n",
    "\n",
    "包括两个主要部分：\n",
    "\n",
    "    训练循环-遍历训练数据集并尝试收敛到最佳参数。\n",
    "\n",
    "    验证/测试循环-遍历测试数据集以检查模型性能是否有所改善。"
   ]
  },
  {
   "cell_type": "markdown",
   "id": "pointed-astrology",
   "metadata": {},
   "source": [
    "#### Loss Function\n",
    "提供一些训练数据时，我们未经训练的网络很可能无法给出正确的答案。\n",
    "\n",
    "损失函数衡量的是获得的结果与目标值的不相似程度，这是我们在训练过程中要最小化的损失函数。\n",
    "\n",
    "为了计算损失，我们使用给定数据样本的输入进行预测，并将其与真实数据标签值进行比较。\n",
    "\n",
    "常见的损失函数包括用于回归任务的nn.MSELoss（均方误差）和 用于分类的nn.NLLLoss（负对数似然）。 nn.CrossEntropyLoss结合nn.LogSoftmax和nn.NLLLoss"
   ]
  },
  {
   "cell_type": "code",
   "execution_count": 5,
   "id": "cooperative-tours",
   "metadata": {},
   "outputs": [],
   "source": [
    "# 将模型的输出logits传递给nn.CrossEntropyLoss，这将对logits进行归一化并计算预测误差\n",
    "\n",
    "# Initialize the loss function\n",
    "loss_fn = nn.CrossEntropyLoss()"
   ]
  },
  {
   "cell_type": "markdown",
   "id": "mexican-commander",
   "metadata": {},
   "source": [
    "#### Optimizer\n",
    "优化是调整模型参数以减少每个训练步骤中模型误差的过程。\n",
    "\n",
    "所有优化逻辑都封装在optimizer对象中。在这里，我们使用SGD优化器。\n",
    "\n",
    "此外， PyTorch中提供了许多不同的优化器，例如ADAM和RMSProp，它们对于不同类型的模型和数据更有效"
   ]
  },
  {
   "cell_type": "code",
   "execution_count": 8,
   "id": "regulation-strategy",
   "metadata": {},
   "outputs": [],
   "source": [
    "# 初始化优化器\n",
    "optimizer = torch.optim.SGD(model.parameters(), lr=learning_rate)"
   ]
  },
  {
   "cell_type": "markdown",
   "id": "liable-czech",
   "metadata": {},
   "source": [
    "inside the training loop, optimization happens in three steps:\n",
    "\n",
    "    （1）、Call optimizer.zero_grad() to reset the gradients of model parameters. Gradients by default add up; to prevent double-counting, we explicitly zero them at each iteration.\n",
    "    （2）、Backpropagate the prediction loss with a call to loss.backwards(). PyTorch deposits the gradients of the loss w.r.t. each parameter.\n",
    "    （3）、Once we have our gradients, we call optimizer.step() to adjust the parameters by the gradients collected in the backward pass."
   ]
  },
  {
   "cell_type": "markdown",
   "id": "ranging-screw",
   "metadata": {},
   "source": [
    "#### Full Implementation\n",
    "定义train_loop遍历优化代码的循环，并test_loop根据测试数据评估模型的性能."
   ]
  },
  {
   "cell_type": "code",
   "execution_count": 16,
   "id": "answering-organic",
   "metadata": {},
   "outputs": [],
   "source": [
    "def train_loop(dataloader, model, loss_fn, optimizer):\n",
    "    size = len(dataloader.dataset)\n",
    "    for batch, (X, y) in enumerate(dataloader):\n",
    "        X, y = X.to(device), y.to(device)\n",
    "        # Compute prediction and loss\n",
    "        pred = model(X)\n",
    "        loss = loss_fn(pred, y)\n",
    "\n",
    "        # Backpropagation\n",
    "        optimizer.zero_grad()\n",
    "        loss.backward()\n",
    "        optimizer.step()\n",
    "\n",
    "        if batch % 100 == 0:\n",
    "            loss, current = loss.item(), batch * len(X)\n",
    "            print(f\"loss: {loss:>7f}  [{current:>5d}/{size:>5d}]\")\n",
    "\n",
    "\n",
    "def test_loop(dataloader, model, loss_fn):\n",
    "    size = len(dataloader.dataset)\n",
    "    test_loss, correct = 0, 0\n",
    "\n",
    "    with torch.no_grad():\n",
    "        for X, y in dataloader:\n",
    "            X, y = X.to(device), y.to(device)\n",
    "            pred = model(X)\n",
    "            test_loss += loss_fn(pred, y).item()\n",
    "            correct += (pred.argmax(1) == y).type(torch.float).sum().item()\n",
    "\n",
    "    test_loss /= size\n",
    "    correct /= size\n",
    "    print(f\"Test Error: \\n Accuracy: {(100*correct):>0.1f}%, Avg loss: {test_loss:>8f} \\n\")"
   ]
  },
  {
   "cell_type": "markdown",
   "id": "duplicate-plymouth",
   "metadata": {},
   "source": [
    "初始化损失函数和优化器，并将其传递给train_loop和test_loop。随意增加时期数以跟踪模型的改进性能。"
   ]
  },
  {
   "cell_type": "code",
   "execution_count": 18,
   "id": "outside-visit",
   "metadata": {},
   "outputs": [
    {
     "name": "stdout",
     "output_type": "stream",
     "text": [
      "Epoch 1\n",
      "-------------------------------\n",
      "loss: 2.182994  [    0/60000]\n",
      "loss: 2.150644  [ 6400/60000]\n",
      "loss: 2.070633  [12800/60000]\n",
      "loss: 2.069875  [19200/60000]\n",
      "loss: 2.001325  [25600/60000]\n",
      "loss: 1.993394  [32000/60000]\n",
      "loss: 2.072837  [38400/60000]\n",
      "loss: 1.990067  [44800/60000]\n",
      "loss: 2.092111  [51200/60000]\n",
      "loss: 1.968934  [57600/60000]\n",
      "Test Error: \n",
      " Accuracy: 40.3%, Avg loss: 0.030776 \n",
      "\n",
      "Epoch 2\n",
      "-------------------------------\n",
      "loss: 2.100241  [    0/60000]\n",
      "loss: 2.042052  [ 6400/60000]\n",
      "loss: 1.923992  [12800/60000]\n",
      "loss: 1.923524  [19200/60000]\n",
      "loss: 1.827075  [25600/60000]\n",
      "loss: 1.847034  [32000/60000]\n",
      "loss: 1.958503  [38400/60000]\n",
      "loss: 1.857383  [44800/60000]\n",
      "loss: 2.008325  [51200/60000]\n",
      "loss: 1.857908  [57600/60000]\n",
      "Test Error: \n",
      " Accuracy: 43.9%, Avg loss: 0.028843 \n",
      "\n",
      "Done!\n"
     ]
    }
   ],
   "source": [
    "loss_fn = nn.CrossEntropyLoss()\n",
    "optimizer = torch.optim.SGD(model.parameters(), lr=learning_rate)\n",
    "\n",
    "epochs = 2\n",
    "for t in range(epochs):\n",
    "    print(f\"Epoch {t+1}\\n-------------------------------\")\n",
    "    train_loop(train_dataloader, model, loss_fn, optimizer)\n",
    "    test_loop(test_dataloader, model, loss_fn)\n",
    "print(\"Done!\")"
   ]
  },
  {
   "cell_type": "markdown",
   "id": "minus-collectible",
   "metadata": {},
   "source": [
    "60000 / 64 = 937, 每一轮有937个batch,每一轮会迭代937次，%100打印一次，会打印10次。"
   ]
  }
 ],
 "metadata": {
  "kernelspec": {
   "display_name": "Python 3",
   "language": "python",
   "name": "python3"
  },
  "language_info": {
   "codemirror_mode": {
    "name": "ipython",
    "version": 3
   },
   "file_extension": ".py",
   "mimetype": "text/x-python",
   "name": "python",
   "nbconvert_exporter": "python",
   "pygments_lexer": "ipython3",
   "version": "3.7.10"
  }
 },
 "nbformat": 4,
 "nbformat_minor": 5
}
