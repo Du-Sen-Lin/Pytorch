{
 "cells": [
  {
   "cell_type": "markdown",
   "id": "indie-mustang",
   "metadata": {},
   "source": [
    "# Transforms\n",
    "数据并不总是以训练机器学习算法所需的最终处理形式出现。我们使用变换对数据进行一些处理，使其适合训练.\n",
    "\n",
    "TorchVision数据集都有两个参数-transform修改特征和 target_transform修改标签\n",
    "\n",
    "FashionMNIST功能采用PIL图像格式，标签为整数\n",
    "\n",
    "为了进行训练，我们需要将特征作为归一化张量（normalized tensors），将标签作为单热编码张量（one-hot encoded tensors.）。为了进行这些转换，我们使用ToTensor和Lambda"
   ]
  },
  {
   "cell_type": "code",
   "execution_count": 4,
   "id": "square-remainder",
   "metadata": {},
   "outputs": [],
   "source": [
    "from torchvision import datasets\n",
    "from torchvision.transforms import ToTensor, Lambda\n",
    "\n",
    "ds = datasets.FashionMNIST(\n",
    "    root=\"./data/\",\n",
    "    train=True,\n",
    "    download=True,\n",
    "    transform=ToTensor(),\n",
    "    target_transform=Lambda(lambda y: torch.zeros(10, dtype=torch.float).scatter_(0, torch.tensor(y), value=1))\n",
    ")"
   ]
  },
  {
   "cell_type": "markdown",
   "id": "fifty-matrix",
   "metadata": {},
   "source": [
    "## ToTensor()\n",
    "ToTensor 可以将PIL图像或NumPyndarray转换为FloatTensor。并在[0.，1.]范围内缩放图像的像素强度值。"
   ]
  },
  {
   "cell_type": "markdown",
   "id": "identical-monitor",
   "metadata": {},
   "source": [
    "## Lambda Transforms\n",
    "Lambda转换会应用任何用户定义的Lambda函数。在这里，我们定义了一个将整数转换为单次热编码张量的函数。\n",
    "\n",
    "它首先创建大小为10（数据集中的标签数）的零张量，并调用 scatter_(),\n",
    "\n",
    "which assigns a value=1 on the index as given by the label y"
   ]
  },
  {
   "cell_type": "code",
   "execution_count": null,
   "id": "approximate-jumping",
   "metadata": {},
   "outputs": [],
   "source": []
  }
 ],
 "metadata": {
  "kernelspec": {
   "display_name": "Python 3",
   "language": "python",
   "name": "python3"
  },
  "language_info": {
   "codemirror_mode": {
    "name": "ipython",
    "version": 3
   },
   "file_extension": ".py",
   "mimetype": "text/x-python",
   "name": "python",
   "nbconvert_exporter": "python",
   "pygments_lexer": "ipython3",
   "version": "3.7.8"
  }
 },
 "nbformat": 4,
 "nbformat_minor": 5
}
