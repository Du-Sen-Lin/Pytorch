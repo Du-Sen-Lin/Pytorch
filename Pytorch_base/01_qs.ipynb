{
 "cells": [
  {
   "cell_type": "code",
   "execution_count": 10,
   "id": "purple-encoding",
   "metadata": {},
   "outputs": [],
   "source": [
    "import torch\n",
    "from torch import nn\n",
    "from torch.utils.data import DataLoader\n",
    "from torchvision import datasets\n",
    "from torchvision.transforms import ToTensor, Lambda, Compose\n",
    "import matplotlib.pyplot as plt"
   ]
  },
  {
   "cell_type": "markdown",
   "id": "disturbed-fabric",
   "metadata": {},
   "source": [
    "# 1、处理数据"
   ]
  },
  {
   "cell_type": "markdown",
   "id": "latin-begin",
   "metadata": {},
   "source": [
    "## 1-1、下载训练集MNIST 手写数字训练集\n",
    "torchvision.transforms里面的操作是对导入的图片做处理：\n",
    "(1)、比如可以随机取(50, 50)这样的窗框大小，或者随机翻转;\n",
    "(2)、 或者去中间的(50, 50)的窗框大小部分等等;\n",
    "(3)、但是里面必须要用的是transforms.ToTensor();"
   ]
  },
  {
   "cell_type": "code",
   "execution_count": 11,
   "id": "directed-hudson",
   "metadata": {},
   "outputs": [],
   "source": [
    "# Download training data from open datasets.\n",
    "training_data = datasets.FashionMNIST(\n",
    "    root=\"./data/\",\n",
    "    train=True,\n",
    "    download=False,\n",
    "    transform=ToTensor(),\n",
    ")\n",
    "\n",
    "# Download test data from open datasets.\n",
    "test_data = datasets.FashionMNIST(\n",
    "    root=\"./data/\",\n",
    "    train=False,\n",
    "    download=False,\n",
    "    transform=ToTensor(),\n",
    ")"
   ]
  },
  {
   "cell_type": "markdown",
   "id": "comfortable-mission",
   "metadata": {},
   "source": [
    "## 1-2、加载数据\n",
    "① 创建一个 Dataset 对象\n",
    "② 创建一个 DataLoader 对象\n",
    "③ 循环这个 DataLoader 对象，将img, label加载到模型中进行训练\n",
    "    dataset,传入的数据集\n",
    "    batch_size=1, 每个batch有多少个样本\n",
    "    shuffle=False,在每个epoch开始的时候，对数据进行重新排序,训练集中True\n",
    "    sampler=None,自定义从数据集中取样本的策略，如果指定这个参数，那么shuffle必须为False\n",
    "    batch_sampler=None,与sampler类似，但是一次只返回一个batch的indices（索引）需要注意的是，一旦指定了这个参数，那么batch_size,shuffle,sampler,drop_last就不能再制定了（互斥——Mutually exclusive）\n",
    "    num_workers=0,这个参数决定了有几个进程来处理data loading。0意味着所有的数据都会被load进主进程。（默认为0）\n",
    "    collate_fn=None, 将一个list的sample组成一个mini-batch的函数\n",
    "    pin_memory=False,如果设置为True，那么data loader将会在返回它们之前，将tensors拷贝到CUDA中的固定内存（CUDA pinned memory）中.\n",
    "    drop_last=False,如果设置为True：这个是对最后的未完成的batch来说的，比如你的batch_size设置为64，而一个epoch只有100个样本，那么训练的时候后面的36个就被扔掉了…\n",
    "                如果为False（默认），那么会继续正常执行，只是最后的batch_size会小一点。\n",
    "    timeout=0, 如果是正数，表明等待从worker进程中收集一个batch等待的时间，若超出设定的时间还没有收集到，那就不收集这个内容了。这个numeric应总是大于等于0。默认为0\n",
    "    worker_init_fn=None,每个worker初始化函数 \n",
    "    multiprocessing_context=None,"
   ]
  },
  {
   "cell_type": "code",
   "execution_count": 12,
   "id": "mediterranean-dakota",
   "metadata": {},
   "outputs": [
    {
     "name": "stdout",
     "output_type": "stream",
     "text": [
      "Shape of X [N, C, H, W] torch.Size([64, 1, 28, 28])\n",
      "Shape of y: torch.Size([64]) torch.int64\n"
     ]
    }
   ],
   "source": [
    "batch_size = 64\n",
    "\n",
    "# Create data loaders.\n",
    "train_dataloader = DataLoader(training_data, batch_size = batch_size)\n",
    "test_dataloader = DataLoader(test_data, batch_size = batch_size)\n",
    "\n",
    "for X, y in test_dataloader:\n",
    "    print(\"Shape of X [N, C, H, W]\", X.shape)\n",
    "    print(\"Shape of y:\", y.shape, y.dtype)\n",
    "    break"
   ]
  },
  {
   "cell_type": "markdown",
   "id": "actual-substance",
   "metadata": {},
   "source": [
    "# 2、创建模型\n",
    "在PyTorch中定义一个神经网络，我们创建了一个从nn.Module继承的类。\n",
    "我们在__init__函数中定义网络的层，并在函数中指定数据如何通过网络forward。\n",
    "为了加速神经网络中的操作，我们将其移至GPU（如果有）"
   ]
  },
  {
   "cell_type": "code",
   "execution_count": 13,
   "id": "modular-desktop",
   "metadata": {},
   "outputs": [
    {
     "name": "stdout",
     "output_type": "stream",
     "text": [
      "Using cuda device\n",
      "NeuraNetwork(\n",
      "  (flatten): Flatten(start_dim=1, end_dim=-1)\n",
      "  (linear_relu_stack): Sequential(\n",
      "    (0): Linear(in_features=784, out_features=512, bias=True)\n",
      "    (1): ReLU()\n",
      "    (2): Linear(in_features=512, out_features=512, bias=True)\n",
      "    (3): ReLU()\n",
      "    (4): Linear(in_features=512, out_features=10, bias=True)\n",
      "    (5): ReLU()\n",
      "  )\n",
      ")\n"
     ]
    }
   ],
   "source": [
    "# Get cpu or gpu device for training.\n",
    "device = \"cuda\" if torch.cuda.is_available() else \"cpu\"\n",
    "print(\"Using {} device\".format(device))\n",
    "\n",
    "# Define model\n",
    "class NeuraNetwork(nn.Module):\n",
    "    def __init__(self):\n",
    "        super(NeuraNetwork, self).__init__()\n",
    "        self.flatten = nn.Flatten()\n",
    "        self.linear_relu_stack = nn.Sequential(\n",
    "            nn.Linear(28*28, 512),\n",
    "            nn.ReLU(),\n",
    "            nn.Linear(512, 512),\n",
    "            nn.ReLU(),\n",
    "            nn.Linear(512, 10),\n",
    "            nn.ReLU()\n",
    "        )\n",
    "    \n",
    "    def forward(self, x):\n",
    "        x = self.flatten(x)\n",
    "        logits = self.linear_relu_stack(x)\n",
    "        return logits\n",
    "    \n",
    "model = NeuraNetwork().to(device)\n",
    "print(model)"
   ]
  },
  {
   "cell_type": "markdown",
   "id": "controversial-maker",
   "metadata": {},
   "source": [
    "# 3、优化模型参数\n",
    "要训练模型，我们需要损失函数 和优化器。\n",
    "定义loss和optimizer\n",
    "交叉熵损失函数:\n",
    "    CrossEntropyLoss(),交叉熵主要是用来判定实际的输出与期望的输出的接近程度；\n",
    "    CrossEntropyLoss()函数的主要是将softmax-log-NLLLoss合并到一块得到的结果"
   ]
  },
  {
   "cell_type": "code",
   "execution_count": 15,
   "id": "continuous-microphone",
   "metadata": {},
   "outputs": [],
   "source": [
    "loss_fn = nn.CrossEntropyLoss()\n",
    "# 随机梯度下降\n",
    "optimizer = torch.optim.SGD(model.parameters(), lr=1e-3) "
   ]
  },
  {
   "cell_type": "markdown",
   "id": "ranging-sensitivity",
   "metadata": {},
   "source": [
    "单个训练循环中，模型对训练数据集进行预测（分批进给），然后反向传播预测误差以调整模型的参数。"
   ]
  },
  {
   "cell_type": "code",
   "execution_count": 16,
   "id": "hollywood-diameter",
   "metadata": {},
   "outputs": [],
   "source": [
    "def train(dataloader, model, loss_fn, optimizer):\n",
    "    size = len(dataloader.dataset)\n",
    "    for batch, (X, y) in enumerate(dataloader):\n",
    "        X, y = X.to(device), y.to(device)\n",
    "        \n",
    "        pred = model(X)\n",
    "        loss = loss_fn(pred, y)\n",
    "        \n",
    "        optimizer.zero_grad()\n",
    "        loss.backward()\n",
    "        optimizer.step()\n",
    "        \n",
    "        if batch % 100 == 0:\n",
    "            loss, current = loss.item(), batch*len(X)\n",
    "            print(f\"loss: {loss:>7f} [{current:>5d}/{size:>5d}]\")"
   ]
  },
  {
   "cell_type": "markdown",
   "id": "optical-international",
   "metadata": {},
   "source": [
    "对照测试数据集检查模型的性能，以确保模型在学习。"
   ]
  },
  {
   "cell_type": "code",
   "execution_count": 20,
   "id": "conservative-quality",
   "metadata": {},
   "outputs": [],
   "source": [
    "def test(dataloader, model):\n",
    "    size = len(dataloader.dataset)\n",
    "    model.eval()\n",
    "    test_loss, correct = 0, 0\n",
    "    with torch.no_grad():\n",
    "        for X, y in dataloader:\n",
    "            X, y = X.to(device), y.to(device)\n",
    "            pred = model(X)\n",
    "            test_loss += loss_fn(pred, y).item()\n",
    "            correct += (pred.argmax(1) == y).type(torch.float).sum().item()\n",
    "    test_loss /= size\n",
    "    correct /= size\n",
    "    print(f\"Test Error: \\n Accuracy: {(100*correct):>0.1f}%, Avg loss:{test_loss:>8f} \\n\")"
   ]
  },
  {
   "cell_type": "markdown",
   "id": "above-spotlight",
   "metadata": {},
   "source": [
    "迭代训练，模型学习参数去做更好的预测，没次迭代输出模型准确率和loss；\n",
    "希望看到每次迭代精度提高，loss降低。"
   ]
  },
  {
   "cell_type": "code",
   "execution_count": 21,
   "id": "endless-swing",
   "metadata": {},
   "outputs": [
    {
     "name": "stdout",
     "output_type": "stream",
     "text": [
      "Epoch 1\n",
      "-------------------\n",
      "loss: 2.187505 [    0/60000]\n",
      "loss: 2.158679 [ 6400/60000]\n",
      "loss: 2.118441 [12800/60000]\n",
      "loss: 2.131573 [19200/60000]\n",
      "loss: 2.063815 [25600/60000]\n",
      "loss: 2.077253 [32000/60000]\n",
      "loss: 2.083774 [38400/60000]\n",
      "loss: 2.047268 [44800/60000]\n",
      "loss: 2.038332 [51200/60000]\n",
      "loss: 1.975190 [57600/60000]\n",
      "Test Error: \n",
      " Accuracy: 53.3%, Avg loss:0.031046 \n",
      "\n",
      "Epoch 2\n",
      "-------------------\n",
      "loss: 2.015596 [    0/60000]\n",
      "loss: 1.949362 [ 6400/60000]\n",
      "loss: 1.880694 [12800/60000]\n",
      "loss: 1.911317 [19200/60000]\n",
      "loss: 1.792747 [25600/60000]\n",
      "loss: 1.852538 [32000/60000]\n",
      "loss: 1.852765 [38400/60000]\n",
      "loss: 1.818456 [44800/60000]\n",
      "loss: 1.804411 [51200/60000]\n",
      "loss: 1.701063 [57600/60000]\n",
      "Test Error: \n",
      " Accuracy: 58.8%, Avg loss:0.026995 \n",
      "\n",
      "Epoch 3\n",
      "-------------------\n",
      "loss: 1.794828 [    0/60000]\n",
      "loss: 1.690990 [ 6400/60000]\n",
      "loss: 1.607215 [12800/60000]\n",
      "loss: 1.643807 [19200/60000]\n",
      "loss: 1.509737 [25600/60000]\n",
      "loss: 1.641469 [32000/60000]\n",
      "loss: 1.611163 [38400/60000]\n",
      "loss: 1.619523 [44800/60000]\n",
      "loss: 1.579848 [51200/60000]\n",
      "loss: 1.450016 [57600/60000]\n",
      "Test Error: \n",
      " Accuracy: 60.7%, Avg loss:0.023450 \n",
      "\n",
      "Epoch 4\n",
      "-------------------\n",
      "loss: 1.593987 [    0/60000]\n",
      "loss: 1.475268 [ 6400/60000]\n",
      "loss: 1.387188 [12800/60000]\n",
      "loss: 1.435413 [19200/60000]\n",
      "loss: 1.291096 [25600/60000]\n",
      "loss: 1.483183 [32000/60000]\n",
      "loss: 1.429411 [38400/60000]\n",
      "loss: 1.476766 [44800/60000]\n",
      "loss: 1.412058 [51200/60000]\n",
      "loss: 1.282571 [57600/60000]\n",
      "Test Error: \n",
      " Accuracy: 61.9%, Avg loss:0.020938 \n",
      "\n",
      "Epoch 5\n",
      "-------------------\n",
      "loss: 1.437322 [    0/60000]\n",
      "loss: 1.320202 [ 6400/60000]\n",
      "loss: 1.225582 [12800/60000]\n",
      "loss: 1.296917 [19200/60000]\n",
      "loss: 1.140505 [25600/60000]\n",
      "loss: 1.363159 [32000/60000]\n",
      "loss: 1.300727 [38400/60000]\n",
      "loss: 1.373177 [44800/60000]\n",
      "loss: 1.291259 [51200/60000]\n",
      "loss: 1.172132 [57600/60000]\n",
      "Test Error: \n",
      " Accuracy: 62.7%, Avg loss:0.019173 \n",
      "\n",
      "Done!\n"
     ]
    }
   ],
   "source": [
    "epochs = 5\n",
    "for t in range(epochs):\n",
    "    print(f\"Epoch {t+1}\\n-------------------\")\n",
    "    train(train_dataloader, model, loss_fn, optimizer)\n",
    "    test(test_dataloader, model)\n",
    "print(\"Done!\")"
   ]
  },
  {
   "cell_type": "markdown",
   "id": "expected-carry",
   "metadata": {},
   "source": [
    "# 4、保存模型\n",
    "保存模型的常用方法是序列化内部状态字典（包含模型参数）。"
   ]
  },
  {
   "cell_type": "code",
   "execution_count": 22,
   "id": "systematic-chapter",
   "metadata": {},
   "outputs": [
    {
     "name": "stdout",
     "output_type": "stream",
     "text": [
      "Saved PyTorch Model State to model.pth\n"
     ]
    }
   ],
   "source": [
    "torch.save(model.state_dict(), \"model.pth\")\n",
    "print(\"Saved PyTorch Model State to model.pth\")"
   ]
  },
  {
   "cell_type": "markdown",
   "id": "honey-justice",
   "metadata": {},
   "source": [
    "# 5、加载模型\n",
    "加载模型的过程包括重新创建模型结构并将状态字典加载到其中。"
   ]
  },
  {
   "cell_type": "code",
   "execution_count": 23,
   "id": "conservative-steal",
   "metadata": {},
   "outputs": [
    {
     "data": {
      "text/plain": [
       "<All keys matched successfully>"
      ]
     },
     "execution_count": 23,
     "metadata": {},
     "output_type": "execute_result"
    }
   ],
   "source": [
    "model = NeuraNetwork()\n",
    "model.load_state_dict(torch.load(\"model.pth\"))"
   ]
  },
  {
   "cell_type": "markdown",
   "id": "competitive-header",
   "metadata": {},
   "source": [
    "现在可以使用该模型进行预测。"
   ]
  },
  {
   "cell_type": "code",
   "execution_count": 45,
   "id": "cellular-filter",
   "metadata": {},
   "outputs": [
    {
     "name": "stdout",
     "output_type": "stream",
     "text": [
      "Predicted: \"Ankle boot\", Actual: \"Ankle boot\"\n"
     ]
    }
   ],
   "source": [
    "classes = [\n",
    "    \"T-shirt/top\",\n",
    "    \"Trouser\",\n",
    "    \"Pullover\",\n",
    "    \"Dress\",\n",
    "    \"Coat\",\n",
    "    \"Sandal\",\n",
    "    \"Shirt\",\n",
    "    \"Sneaker\",\n",
    "    \"Bag\",\n",
    "    \"Ankle boot\",\n",
    "]\n",
    "\n",
    "model.eval()\n",
    "x, y = test_data[0][0], test_data[0][1]\n",
    "with torch.no_grad():\n",
    "    pred = model(x)\n",
    "    predicted, actual = classes[pred[0].argmax(0)], classes[y]\n",
    "    print(f'Predicted: \"{predicted}\", Actual: \"{actual}\"')"
   ]
  }
 ],
 "metadata": {
  "kernelspec": {
   "display_name": "Python 3",
   "language": "python",
   "name": "python3"
  },
  "language_info": {
   "codemirror_mode": {
    "name": "ipython",
    "version": 3
   },
   "file_extension": ".py",
   "mimetype": "text/x-python",
   "name": "python",
   "nbconvert_exporter": "python",
   "pygments_lexer": "ipython3",
   "version": "3.7.10"
  }
 },
 "nbformat": 4,
 "nbformat_minor": 5
}
