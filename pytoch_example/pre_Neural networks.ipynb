{
 "cells": [
  {
   "cell_type": "code",
   "execution_count": 85,
   "id": "national-process",
   "metadata": {},
   "outputs": [
    {
     "name": "stdout",
     "output_type": "stream",
     "text": [
      "Net(\n",
      "  (conv1): Conv2d(1, 6, kernel_size=(3, 3), stride=(1, 1))\n",
      "  (conv2): Conv2d(6, 16, kernel_size=(3, 3), stride=(1, 1))\n",
      "  (fc1): Linear(in_features=576, out_features=120, bias=True)\n",
      "  (fc2): Linear(in_features=120, out_features=84, bias=True)\n",
      "  (fc3): Linear(in_features=84, out_features=10, bias=True)\n",
      ")\n"
     ]
    }
   ],
   "source": [
    "import torch\n",
    "import torch.nn as nn\n",
    "import torch.nn.functional as F\n",
    "\n",
    "\n",
    "class Net(nn.Module):\n",
    "\n",
    "    def __init__(self):\n",
    "        super(Net, self).__init__()\n",
    "        # 1 input image channel, 6 output channels, 3x3 square convolution\n",
    "        # kernel\n",
    "        self.conv1 = nn.Conv2d(1, 6, 3)\n",
    "        self.conv2 = nn.Conv2d(6, 16, 3)\n",
    "        # an affine operation: y = Wx + b\n",
    "        self.fc1 = nn.Linear(16 * 6 * 6, 120)  # 6*6 from image dimension\n",
    "        self.fc2 = nn.Linear(120, 84)\n",
    "        self.fc3 = nn.Linear(84, 10)\n",
    "\n",
    "    def forward(self, x):\n",
    "        # Max pooling over a (2, 2) window\n",
    "#         print(x.shape)\n",
    "        x = F.max_pool2d(F.relu(self.conv1(x)), (2, 2)) # 1, 1, 32, 32 -> 1, 6, 15, 15\n",
    "#         print(x.shape)\n",
    "        # If the size is a square you can only specify a single number\n",
    "        x = F.max_pool2d(F.relu(self.conv2(x)), 2) # 1, 6, 15, 15 -> 1, 16, 6, 6\n",
    "#         print(x.shape)\n",
    "#         print('self.num_flat_features:', self.num_flat_features(x))\n",
    "        x = x.view(-1, self.num_flat_features(x))\n",
    "        x = F.relu(self.fc1(x))\n",
    "        x = F.relu(self.fc2(x))\n",
    "        x = self.fc3(x)\n",
    "        return x\n",
    "\n",
    "    def num_flat_features(self, x):\n",
    "        size = x.size()[1:]  # all dimensions except the batch dimension\n",
    "        num_features = 1\n",
    "        for s in size:\n",
    "            num_features *= s\n",
    "        return num_features\n",
    "\n",
    "\n",
    "net = Net()\n",
    "print(net)"
   ]
  },
  {
   "cell_type": "code",
   "execution_count": 86,
   "id": "affected-darwin",
   "metadata": {},
   "outputs": [
    {
     "name": "stdout",
     "output_type": "stream",
     "text": [
      "10\n",
      "torch.Size([6, 1, 3, 3])\n"
     ]
    }
   ],
   "source": [
    "params = list(net.parameters())\n",
    "print(len(params))\n",
    "print(params[0].size())  # conv1's .weight"
   ]
  },
  {
   "cell_type": "code",
   "execution_count": 87,
   "id": "expired-mathematics",
   "metadata": {},
   "outputs": [
    {
     "name": "stdout",
     "output_type": "stream",
     "text": [
      "tensor([[-0.0541,  0.0811,  0.0482, -0.1162,  0.1373, -0.0362,  0.0467,  0.0928,\n",
      "          0.0063, -0.1188]], grad_fn=<AddmmBackward>)\n"
     ]
    }
   ],
   "source": [
    "input = torch.randn(1, 1, 32, 32)\n",
    "out = net(input)\n",
    "print(out)"
   ]
  },
  {
   "cell_type": "code",
   "execution_count": 88,
   "id": "bacterial-brother",
   "metadata": {},
   "outputs": [],
   "source": [
    "net.zero_grad()\n",
    "out.backward(torch.randn(1, 10))"
   ]
  },
  {
   "cell_type": "code",
   "execution_count": 89,
   "id": "technical-movement",
   "metadata": {},
   "outputs": [
    {
     "name": "stdout",
     "output_type": "stream",
     "text": [
      "tensor([[-0.0541,  0.0811,  0.0482, -0.1162,  0.1373, -0.0362,  0.0467,  0.0928,\n",
      "          0.0063, -0.1188]], grad_fn=<AddmmBackward>)\n"
     ]
    }
   ],
   "source": [
    "print(out)"
   ]
  },
  {
   "cell_type": "code",
   "execution_count": 91,
   "id": "intensive-republican",
   "metadata": {},
   "outputs": [
    {
     "name": "stdout",
     "output_type": "stream",
     "text": [
      "torch.Size([1, 10])\n",
      "tensor(1.1134, grad_fn=<MseLossBackward>)\n"
     ]
    }
   ],
   "source": [
    "output = net(input)\n",
    "target = torch.randn(10)  # a dummy target, for example\n",
    "target = target.view(1, -1)  # make it the same shape as output\n",
    "print(target.shape)\n",
    "criterion = nn.MSELoss()\n",
    "\n",
    "loss = criterion(output, target)\n",
    "print(loss)"
   ]
  },
  {
   "cell_type": "code",
   "execution_count": 92,
   "id": "satisfied-sixth",
   "metadata": {},
   "outputs": [
    {
     "name": "stdout",
     "output_type": "stream",
     "text": [
      "<MseLossBackward object at 0x7f2fd4085450>\n",
      "<AddmmBackward object at 0x7f2fd40855d0>\n",
      "<AccumulateGrad object at 0x7f2fd4085450>\n"
     ]
    }
   ],
   "source": [
    "print(loss.grad_fn)  # MSELoss\n",
    "print(loss.grad_fn.next_functions[0][0])  # Linear\n",
    "print(loss.grad_fn.next_functions[0][0].next_functions[0][0])  # ReLU"
   ]
  },
  {
   "cell_type": "code",
   "execution_count": 93,
   "id": "august-coordinate",
   "metadata": {},
   "outputs": [
    {
     "name": "stdout",
     "output_type": "stream",
     "text": [
      "conv1.bias.grad before backward\n",
      "tensor([0., 0., 0., 0., 0., 0.])\n",
      "conv1.bias.grad after backward\n",
      "tensor([-0.0101,  0.0054,  0.0047, -0.0019,  0.0077,  0.0022])\n"
     ]
    }
   ],
   "source": [
    "net.zero_grad()     # zeroes the gradient buffers of all parameters\n",
    "\n",
    "print('conv1.bias.grad before backward')\n",
    "print(net.conv1.bias.grad)\n",
    "\n",
    "loss.backward()\n",
    "\n",
    "print('conv1.bias.grad after backward')\n",
    "print(net.conv1.bias.grad)"
   ]
  },
  {
   "cell_type": "code",
   "execution_count": 94,
   "id": "documented-grade",
   "metadata": {},
   "outputs": [],
   "source": [
    "learning_rate = 0.01\n",
    "for f in net.parameters():\n",
    "    f.data.sub_(f.grad.data * learning_rate)"
   ]
  },
  {
   "cell_type": "code",
   "execution_count": 95,
   "id": "young-comment",
   "metadata": {},
   "outputs": [],
   "source": [
    "import torch.optim as optim\n",
    "\n",
    "# create your optimizer\n",
    "optimizer = optim.SGD(net.parameters(), lr=0.01)\n",
    "\n",
    "# in your training loop:\n",
    "optimizer.zero_grad()   # zero the gradient buffers\n",
    "output = net(input)\n",
    "loss = criterion(output, target)\n",
    "loss.backward()\n",
    "optimizer.step()    # Does the update"
   ]
  },
  {
   "cell_type": "code",
   "execution_count": null,
   "id": "biological-dress",
   "metadata": {},
   "outputs": [],
   "source": []
  },
  {
   "cell_type": "markdown",
   "id": "divided-syntax",
   "metadata": {},
   "source": [
    "**矩阵大小变化过程**"
   ]
  },
  {
   "cell_type": "code",
   "execution_count": null,
   "id": "moving-warrior",
   "metadata": {},
   "outputs": [],
   "source": [
    "# # 定义 Convolution Network 模型\n",
    "# class Cnn(nn.Module):\n",
    "#     def __init__(self, in_dim, n_class):\n",
    "#         super(Cnn, self).__init__()\n",
    "#         self.conv = nn.Sequential(\n",
    "#             nn.Conv2d(\n",
    "#                 in_channels=in_dim,\n",
    "#                 out_channels=6,\n",
    "#                 kernel_size=3,\n",
    "#                 stride=1,\n",
    "#                 padding=1,\n",
    "#                 dilation=1,\n",
    "#                 groups=1,\n",
    "#                 bias=True,\n",
    "#                 padding_mode='zeros',), # batch,1, 6, 28, 28\n",
    "#             nn.ReLU(True),\n",
    "#             nn.MaxPool2d(2, 2), # batch, 1, 6, 14, 14\n",
    "#             nn.Conv2d(6, 16, 5, stride=1, padding=0), #batch, 1, 16, 10, 10, 没有padding, 卷积核是5x5, 所以每个边减去2，卷积结束后14x14-> 10 x10\n",
    "#             nn.ReLU(True),\n",
    "#             nn.MaxPool2d(2, 2)) #batch, 16, 5, 5\n",
    "        \n",
    "#         self.fc = nn.Sequential(\n",
    "#             nn.Linear(400, 120), # ???为啥是400\n",
    "#             nn.Linear(120, 84),\n",
    "#             nn.Linear(84, n_class))\n",
    "        \n",
    "#     def forward(self, x):\n",
    "#         print(x.shape)\n",
    "#         out = self.conv(x) # 1, 1, 28, 28 -> [1, 16, 5, 5]\n",
    "#         print(out.shape) \n",
    "#         out = out.view(out.size(0), -1) # [1, 400]\n",
    "#         print(out.shape)\n",
    "#         out = self.fc(out)\n",
    "#         return out\n",
    "# cnn = Cnn(1, 10)\n",
    "\n",
    "# input = torch.randn(1, 1, 28, 28)\n",
    "# out = cnn(input)\n",
    "# print(out)"
   ]
  },
  {
   "cell_type": "code",
   "execution_count": null,
   "id": "infinite-printer",
   "metadata": {},
   "outputs": [],
   "source": []
  }
 ],
 "metadata": {
  "kernelspec": {
   "display_name": "Python 3",
   "language": "python",
   "name": "python3"
  },
  "language_info": {
   "codemirror_mode": {
    "name": "ipython",
    "version": 3
   },
   "file_extension": ".py",
   "mimetype": "text/x-python",
   "name": "python",
   "nbconvert_exporter": "python",
   "pygments_lexer": "ipython3",
   "version": "3.7.10"
  }
 },
 "nbformat": 4,
 "nbformat_minor": 5
}
