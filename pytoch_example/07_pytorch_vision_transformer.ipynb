{
 "cells": [
  {
   "cell_type": "markdown",
   "id": "concerned-lucas",
   "metadata": {},
   "source": [
    "# optimizing vision transformer model for deployment\n",
    "\n",
    "    将自然语言处理中的基于注意力的transformer模型应用于计算机视觉任务，用来实现各种SOTA(state of the art)结果。\n",
    "    https://pytorch.org/tutorials/beginner/vt_tutorial.html"
   ]
  },
  {
   "cell_type": "markdown",
   "id": "expired-mauritius",
   "metadata": {},
   "source": [
    "## DeiT\n",
    "    DeiT与CNN相比只需要较少的数据和计算资源，主要通过DeiT的两个关键组件得以实现：\n",
    "    1、Data augmentation that simulates training on a much larger dataset;\n",
    "    2、Native distillation that allows the transformer network to learn from a CNN’s output.\n",
    "    "
   ]
  },
  {
   "cell_type": "markdown",
   "id": "orange-diploma",
   "metadata": {},
   "source": [
    "## 用DeiT对图像进行分类\n",
    "安装所需的软件包\n",
    "\n",
    "`\n",
    "pip install torch torchvision\n",
    "pip install timm\n",
    "pip install pandas\n",
    "pip install requests\n",
    "`\n",
    "注意：需要安装timm版本 0.3.2\n",
    "https://github.com/facebookresearch/deit"
   ]
  },
  {
   "cell_type": "code",
   "execution_count": 3,
   "id": "female-minister",
   "metadata": {
    "scrolled": false
   },
   "outputs": [
    {
     "name": "stdout",
     "output_type": "stream",
     "text": [
      "1.8.0a0+bee6b0b\n"
     ]
    },
    {
     "name": "stderr",
     "output_type": "stream",
     "text": [
      "Downloading: \"https://github.com/facebookresearch/deit/archive/main.zip\" to /root/.cache/torch/hub/main.zip\n",
      "Downloading: \"https://dl.fbaipublicfiles.com/deit/deit_base_patch16_224-b5f2ef4d.pth\" to /root/.cache/torch/hub/checkpoints/deit_base_patch16_224-b5f2ef4d.pth\n"
     ]
    },
    {
     "data": {
      "application/vnd.jupyter.widget-view+json": {
       "model_id": "6d9112109c0941bb9adb2595ca9d4258",
       "version_major": 2,
       "version_minor": 0
      },
      "text/plain": [
       "  0%|          | 0.00/330M [00:00<?, ?B/s]"
      ]
     },
     "metadata": {},
     "output_type": "display_data"
    },
    {
     "name": "stderr",
     "output_type": "stream",
     "text": [
      "/root/anaconda3/envs/ts_env/lib/python3.7/site-packages/torchvision/transforms/transforms.py:258: UserWarning: Argument interpolation should be of type InterpolationMode instead of int. Please, use InterpolationMode enum.\n",
      "  \"Argument interpolation should be of type InterpolationMode instead of int. \"\n"
     ]
    },
    {
     "name": "stdout",
     "output_type": "stream",
     "text": [
      "269\n"
     ]
    }
   ],
   "source": [
    "from PIL import Image\n",
    "import torch\n",
    "import timm\n",
    "import requests\n",
    "import torchvision.transforms as transforms\n",
    "from timm.data.constants import IMAGENET_DEFAULT_MEAN, IMAGENET_DEFAULT_STD\n",
    "\n",
    "print(torch.__version__)\n",
    "# should be 1.8.0\n",
    "\n",
    "# To load DeiT-base with pretrained weights on ImageNet simply do\n",
    "model = torch.hub.load('facebookresearch/deit:main', 'deit_base_patch16_224', pretrained=True)\n",
    "model.eval()\n",
    "\n",
    "transform = transforms.Compose([\n",
    "    transforms.Resize(256, interpolation=3),\n",
    "    transforms.CenterCrop(224),\n",
    "    transforms.ToTensor(),\n",
    "    transforms.Normalize(IMAGENET_DEFAULT_MEAN, IMAGENET_DEFAULT_STD),\n",
    "])\n",
    "\n",
    "img = Image.open(requests.get(\"https://raw.githubusercontent.com/pytorch/ios-demo-app/master/HelloWorld/HelloWorld/HelloWorld/image.png\", stream=True).raw)\n",
    "img = transform(img)[None,]\n",
    "out = model(img)\n",
    "clsidx = torch.argmax(out)\n",
    "print(clsidx.item())"
   ]
  },
  {
   "cell_type": "markdown",
   "id": "featured-original",
   "metadata": {},
   "source": [
    "### 脚本编制\n",
    "要在移动设备上使用模型，我们首先需要编写模型脚本；\n",
    "\n",
    "运行以下代码，将上一步中使用的DeiT模型转换为可以在移动设备上运行的TorchScript格式。"
   ]
  },
  {
   "cell_type": "code",
   "execution_count": 4,
   "id": "grave-silence",
   "metadata": {},
   "outputs": [
    {
     "name": "stderr",
     "output_type": "stream",
     "text": [
      "Using cache found in /root/.cache/torch/hub/facebookresearch_deit_main\n"
     ]
    }
   ],
   "source": [
    "model = torch.hub.load('facebookresearch/deit:main', 'deit_base_patch16_224', pretrained=True)\n",
    "model.eval()\n",
    "scripted_model = torch.jit.script(model)\n",
    "scripted_model.save(\"models/fbdeit_scripted.pt\")"
   ]
  },
  {
   "cell_type": "markdown",
   "id": "southern-developer",
   "metadata": {},
   "source": [
    "### 量化 DeiT\n",
    "显著减小模型大小，同时保持推理大致精度。可对模型进行动态量化。"
   ]
  },
  {
   "cell_type": "code",
   "execution_count": 5,
   "id": "expected-klein",
   "metadata": {},
   "outputs": [],
   "source": [
    "# Use 'fbgemm' for server inference and 'qnnpack' for mobile inference\n",
    "backend = \"fbgemm\" # replaced with qnnpack causing much worse inference speed for quantized model on this notebook\n",
    "model.qconfig = torch.quantization.get_default_qconfig(backend)\n",
    "torch.backends.quantized.engine = backend\n",
    "\n",
    "quantized_model = torch.quantization.quantize_dynamic(model, qconfig_spec={torch.nn.Linear}, dtype=torch.qint8)\n",
    "scripted_quantized_model = torch.jit.script(quantized_model)\n",
    "scripted_quantized_model.save(\"models/fbdeit_scripted_quantized.pt\")"
   ]
  },
  {
   "cell_type": "code",
   "execution_count": 6,
   "id": "anticipated-removal",
   "metadata": {},
   "outputs": [
    {
     "name": "stdout",
     "output_type": "stream",
     "text": [
      "269\n"
     ]
    }
   ],
   "source": [
    "# 生成相同的推理结果\n",
    "out = scripted_quantized_model(img)\n",
    "clsidx = torch.argmax(out)\n",
    "print(clsidx.item())\n",
    "# The same output 269 should be printed"
   ]
  },
  {
   "cell_type": "markdown",
   "id": "loaded-twins",
   "metadata": {},
   "source": [
    "### 优化 DeiT"
   ]
  },
  {
   "cell_type": "code",
   "execution_count": 8,
   "id": "gothic-anthropology",
   "metadata": {},
   "outputs": [],
   "source": [
    "from torch.utils.mobile_optimizer import optimize_for_mobile\n",
    "optimized_scripted_quantized_model = optimize_for_mobile(scripted_quantized_model)\n",
    "optimized_scripted_quantized_model.save(\"models/fbdeit_optimized_scripted_quantized.pt\")"
   ]
  },
  {
   "cell_type": "code",
   "execution_count": 9,
   "id": "hourly-tuner",
   "metadata": {},
   "outputs": [
    {
     "name": "stdout",
     "output_type": "stream",
     "text": [
      "269\n"
     ]
    },
    {
     "name": "stderr",
     "output_type": "stream",
     "text": [
      "/root/anaconda3/envs/ts_env/lib/python3.7/site-packages/torch/nn/modules/module.py:881: UserWarning: Named tensors and all their associated APIs are an experimental feature and subject to change. Please do not use them for anything important until they are released as stable. (Triggered internally at  /root/public/pytorch/c10/core/TensorImpl.h:890.)\n",
      "  result = self.forward(*input, **kwargs)\n"
     ]
    }
   ],
   "source": [
    "# 推理结果保持不变\n",
    "out = optimized_scripted_quantized_model(img)\n",
    "clsidx = torch.argmax(out)\n",
    "print(clsidx.item())\n",
    "# Again, the same output 269 should be printed"
   ]
  },
  {
   "cell_type": "markdown",
   "id": "worse-pixel",
   "metadata": {},
   "source": [
    "### Using Lite Interpreter\n",
    "继续简化; 移动设备上运行时，预计推理速度会加快。"
   ]
  },
  {
   "cell_type": "code",
   "execution_count": 10,
   "id": "spare-shape",
   "metadata": {},
   "outputs": [],
   "source": [
    "optimized_scripted_quantized_model._save_for_lite_interpreter(\"models/fbdeit_optimized_scripted_quantized_lite.ptl\")\n",
    "ptl = torch.jit.load(\"models/fbdeit_optimized_scripted_quantized_lite.ptl\")"
   ]
  },
  {
   "cell_type": "markdown",
   "id": "experienced-partition",
   "metadata": {},
   "source": [
    "### Comparing Inference Speed\n",
    "四种模型：\n",
    "\n",
    "原始模型(pth)；/root/.cache/torch/hub/checkpoints/deit_base_patch16_224-b5f2ef4d.pth\n",
    "\n",
    "Scripted 模型(fbdeit_scripted.pt);\n",
    "\n",
    "quantized-and-scripted 模型(fbdeit_scripted_quantized.pt);\n",
    "\n",
    " optimized-quantized-and-scripted 模型(fbdeit_optimized_scripted_quantized.pt);"
   ]
  },
  {
   "cell_type": "code",
   "execution_count": 24,
   "id": "specified-confusion",
   "metadata": {},
   "outputs": [
    {
     "name": "stdout",
     "output_type": "stream",
     "text": [
      "original model: 23600.66ms\n",
      "scripted model: 24021.99ms\n",
      "scripted & quantized model: 371.29ms\n",
      "scripted & quantized & optimized model: 495.42ms\n",
      "lite model: 444.15ms\n"
     ]
    }
   ],
   "source": [
    "with torch.autograd.profiler.profile(use_cuda=False) as prof1:\n",
    "    out = model(img)\n",
    "with torch.autograd.profiler.profile(use_cuda=False) as prof2:\n",
    "    out = scripted_model(img)\n",
    "with torch.autograd.profiler.profile(use_cuda=False) as prof3:\n",
    "    out = scripted_quantized_model(img)\n",
    "with torch.autograd.profiler.profile(use_cuda=False) as prof4:\n",
    "    out = optimized_scripted_quantized_model(img)\n",
    "with torch.autograd.profiler.profile(use_cuda=False) as prof5:\n",
    "    out = ptl(img)\n",
    "\n",
    "print(\"original model: {:.2f}ms\".format(prof1.self_cpu_time_total/1000))\n",
    "print(\"scripted model: {:.2f}ms\".format(prof2.self_cpu_time_total/1000))\n",
    "print(\"scripted & quantized model: {:.2f}ms\".format(prof3.self_cpu_time_total/1000))\n",
    "print(\"scripted & quantized & optimized model: {:.2f}ms\".format(prof4.self_cpu_time_total/1000))\n",
    "print(\"lite model: {:.2f}ms\".format(prof5.self_cpu_time_total/1000))"
   ]
  },
  {
   "cell_type": "code",
   "execution_count": 23,
   "id": "alert-drive",
   "metadata": {},
   "outputs": [
    {
     "name": "stderr",
     "output_type": "stream",
     "text": [
      "Clipping input data to the valid range for imshow with RGB data ([0..1] for floats or [0..255] for integers).\n"
     ]
    },
    {
     "name": "stdout",
     "output_type": "stream",
     "text": [
      "(3, 224, 224)\n",
      "(224, 224, 3)\n"
     ]
    },
    {
     "data": {
      "image/png": "[encoded data removed]",
      "text/plain": [
       "<Figure size 432x288 with 1 Axes>"
      ]
     },
     "metadata": {
      "needs_background": "light"
     },
     "output_type": "display_data"
    }
   ],
   "source": [
    "# 图片显示\n",
    "from matplotlib import pyplot as plt\n",
    "import cv2\n",
    "import numpy as np\n",
    "\n",
    "test_img = img[0].numpy()\n",
    "print(test_img.shape)\n",
    "test_img = np.transpose(test_img, (1, 2, 0))\n",
    "print(test_img.shape)\n",
    "plt.imshow(test_img)\n",
    "plt.show()"
   ]
  },
  {
   "cell_type": "code",
   "execution_count": 26,
   "id": "fitting-arctic",
   "metadata": {},
   "outputs": [
    {
     "name": "stdout",
     "output_type": "stream",
     "text": [
      "                                    Model Inference Time Reduction\n",
      "0                          original model     23600.66ms        0%\n",
      "1                          scripted model     24021.99ms    -1.79%\n",
      "2              scripted & quantized model       371.29ms    98.43%\n",
      "3  scripted & quantized & optimized model       495.42ms    97.90%\n",
      "4                              lite model       444.15ms    98.12%\n"
     ]
    },
    {
     "data": {
      "text/plain": [
       "'\\n                                    Model Inference Time Reduction\\n0                          original model     23600.66ms        0%\\n1                          scripted model     24021.99ms    -1.79%\\n2              scripted & quantized model       371.29ms    98.43%\\n3  scripted & quantized & optimized model       495.42ms    97.90%\\n4                              lite model       444.15ms    98.12%\\n'"
      ]
     },
     "execution_count": 26,
     "metadata": {},
     "output_type": "execute_result"
    }
   ],
   "source": [
    "# 每个模型的推理时间以及每个模型相对于原始模型的减少百分比\n",
    "import pandas as pd\n",
    "import numpy as np\n",
    "\n",
    "df = pd.DataFrame({'Model': ['original model','scripted model', 'scripted & quantized model', 'scripted & quantized & optimized model', 'lite model']})\n",
    "df = pd.concat([df, pd.DataFrame([\n",
    "    [\"{:.2f}ms\".format(prof1.self_cpu_time_total/1000), \"0%\"],\n",
    "    [\"{:.2f}ms\".format(prof2.self_cpu_time_total/1000),\n",
    "     \"{:.2f}%\".format((prof1.self_cpu_time_total-prof2.self_cpu_time_total)/prof1.self_cpu_time_total*100)],\n",
    "    [\"{:.2f}ms\".format(prof3.self_cpu_time_total/1000),\n",
    "     \"{:.2f}%\".format((prof1.self_cpu_time_total-prof3.self_cpu_time_total)/prof1.self_cpu_time_total*100)],\n",
    "    [\"{:.2f}ms\".format(prof4.self_cpu_time_total/1000),\n",
    "     \"{:.2f}%\".format((prof1.self_cpu_time_total-prof4.self_cpu_time_total)/prof1.self_cpu_time_total*100)],\n",
    "    [\"{:.2f}ms\".format(prof5.self_cpu_time_total/1000),\n",
    "     \"{:.2f}%\".format((prof1.self_cpu_time_total-prof5.self_cpu_time_total)/prof1.self_cpu_time_total*100)]],\n",
    "    columns=['Inference Time', 'Reduction'])], axis=1)\n",
    "\n",
    "print(df)\n",
    "\n",
    "\"\"\"\n",
    "                                    Model Inference Time Reduction\n",
    "0                          original model     23600.66ms        0%\n",
    "1                          scripted model     24021.99ms    -1.79%\n",
    "2              scripted & quantized model       371.29ms    98.43%\n",
    "3  scripted & quantized & optimized model       495.42ms    97.90%\n",
    "4                              lite model       444.15ms    98.12%\n",
    "\"\"\""
   ]
  },
  {
   "cell_type": "code",
   "execution_count": null,
   "id": "lyric-italic",
   "metadata": {},
   "outputs": [],
   "source": []
  }
 ],
 "metadata": {
  "kernelspec": {
   "display_name": "Python 3",
   "language": "python",
   "name": "python3"
  },
  "language_info": {
   "codemirror_mode": {
    "name": "ipython",
    "version": 3
   },
   "file_extension": ".py",
   "mimetype": "text/x-python",
   "name": "python",
   "nbconvert_exporter": "python",
   "pygments_lexer": "ipython3",
   "version": "3.7.10"
  }
 },
 "nbformat": 4,
 "nbformat_minor": 5
}
